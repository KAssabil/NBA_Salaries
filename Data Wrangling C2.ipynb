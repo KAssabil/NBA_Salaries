{
 "cells": [
  {
   "cell_type": "code",
   "execution_count": 1,
   "metadata": {},
   "outputs": [],
   "source": [
    "import numpy as np\n",
    "import pandas as pd\n",
    "import os\n",
    "import seaborn as sns\n",
    "import matplotlib.pyplot as plt\n",
    "from sklearn.linear_model import LinearRegression\n",
    "from sklearn.metrics import mean_squared_error\n",
    "from sklearn.model_selection import train_test_split\n",
    "from scipy.stats import pearsonr\n",
    "import math\n"
   ]
  },
  {
   "cell_type": "code",
   "execution_count": 2,
   "metadata": {},
   "outputs": [
    {
     "data": {
      "text/html": [
       "<div>\n",
       "<style scoped>\n",
       "    .dataframe tbody tr th:only-of-type {\n",
       "        vertical-align: middle;\n",
       "    }\n",
       "\n",
       "    .dataframe tbody tr th {\n",
       "        vertical-align: top;\n",
       "    }\n",
       "\n",
       "    .dataframe thead th {\n",
       "        text-align: right;\n",
       "    }\n",
       "</style>\n",
       "<table border=\"1\" class=\"dataframe\">\n",
       "  <thead>\n",
       "    <tr style=\"text-align: right;\">\n",
       "      <th></th>\n",
       "      <th>Unnamed: 0</th>\n",
       "      <th>Rk</th>\n",
       "      <th>PLAYER</th>\n",
       "      <th>POSITION</th>\n",
       "      <th>AGE</th>\n",
       "      <th>MP</th>\n",
       "      <th>FG</th>\n",
       "      <th>FGA</th>\n",
       "      <th>FG%</th>\n",
       "      <th>3P</th>\n",
       "      <th>...</th>\n",
       "      <th>GP</th>\n",
       "      <th>MPG</th>\n",
       "      <th>ORPM</th>\n",
       "      <th>DRPM</th>\n",
       "      <th>RPM</th>\n",
       "      <th>WINS_RPM</th>\n",
       "      <th>PIE</th>\n",
       "      <th>PACE</th>\n",
       "      <th>W</th>\n",
       "      <th>SALARY_MILLIONS</th>\n",
       "    </tr>\n",
       "  </thead>\n",
       "  <tbody>\n",
       "    <tr>\n",
       "      <th>0</th>\n",
       "      <td>0</td>\n",
       "      <td>1</td>\n",
       "      <td>Russell Westbrook</td>\n",
       "      <td>PG</td>\n",
       "      <td>28</td>\n",
       "      <td>34.6</td>\n",
       "      <td>10.2</td>\n",
       "      <td>24.0</td>\n",
       "      <td>0.425</td>\n",
       "      <td>2.5</td>\n",
       "      <td>...</td>\n",
       "      <td>81</td>\n",
       "      <td>34.6</td>\n",
       "      <td>6.74</td>\n",
       "      <td>-0.47</td>\n",
       "      <td>6.27</td>\n",
       "      <td>17.34</td>\n",
       "      <td>23.0</td>\n",
       "      <td>102.31</td>\n",
       "      <td>46</td>\n",
       "      <td>26.50</td>\n",
       "    </tr>\n",
       "    <tr>\n",
       "      <th>1</th>\n",
       "      <td>1</td>\n",
       "      <td>2</td>\n",
       "      <td>James Harden</td>\n",
       "      <td>PG</td>\n",
       "      <td>27</td>\n",
       "      <td>36.4</td>\n",
       "      <td>8.3</td>\n",
       "      <td>18.9</td>\n",
       "      <td>0.440</td>\n",
       "      <td>3.2</td>\n",
       "      <td>...</td>\n",
       "      <td>81</td>\n",
       "      <td>36.4</td>\n",
       "      <td>6.38</td>\n",
       "      <td>-1.57</td>\n",
       "      <td>4.81</td>\n",
       "      <td>15.54</td>\n",
       "      <td>19.0</td>\n",
       "      <td>102.98</td>\n",
       "      <td>54</td>\n",
       "      <td>26.50</td>\n",
       "    </tr>\n",
       "    <tr>\n",
       "      <th>2</th>\n",
       "      <td>2</td>\n",
       "      <td>4</td>\n",
       "      <td>Anthony Davis</td>\n",
       "      <td>C</td>\n",
       "      <td>23</td>\n",
       "      <td>36.1</td>\n",
       "      <td>10.3</td>\n",
       "      <td>20.3</td>\n",
       "      <td>0.505</td>\n",
       "      <td>0.5</td>\n",
       "      <td>...</td>\n",
       "      <td>75</td>\n",
       "      <td>36.1</td>\n",
       "      <td>0.45</td>\n",
       "      <td>3.90</td>\n",
       "      <td>4.35</td>\n",
       "      <td>12.81</td>\n",
       "      <td>19.2</td>\n",
       "      <td>100.19</td>\n",
       "      <td>31</td>\n",
       "      <td>22.12</td>\n",
       "    </tr>\n",
       "    <tr>\n",
       "      <th>3</th>\n",
       "      <td>3</td>\n",
       "      <td>6</td>\n",
       "      <td>DeMarcus Cousins</td>\n",
       "      <td>C</td>\n",
       "      <td>26</td>\n",
       "      <td>34.2</td>\n",
       "      <td>9.0</td>\n",
       "      <td>19.9</td>\n",
       "      <td>0.452</td>\n",
       "      <td>1.8</td>\n",
       "      <td>...</td>\n",
       "      <td>72</td>\n",
       "      <td>34.2</td>\n",
       "      <td>3.56</td>\n",
       "      <td>0.64</td>\n",
       "      <td>4.20</td>\n",
       "      <td>11.26</td>\n",
       "      <td>17.8</td>\n",
       "      <td>97.11</td>\n",
       "      <td>30</td>\n",
       "      <td>16.96</td>\n",
       "    </tr>\n",
       "    <tr>\n",
       "      <th>4</th>\n",
       "      <td>4</td>\n",
       "      <td>7</td>\n",
       "      <td>Damian Lillard</td>\n",
       "      <td>PG</td>\n",
       "      <td>26</td>\n",
       "      <td>35.9</td>\n",
       "      <td>8.8</td>\n",
       "      <td>19.8</td>\n",
       "      <td>0.444</td>\n",
       "      <td>2.9</td>\n",
       "      <td>...</td>\n",
       "      <td>75</td>\n",
       "      <td>35.9</td>\n",
       "      <td>4.63</td>\n",
       "      <td>-1.49</td>\n",
       "      <td>3.14</td>\n",
       "      <td>10.72</td>\n",
       "      <td>15.9</td>\n",
       "      <td>99.68</td>\n",
       "      <td>38</td>\n",
       "      <td>24.33</td>\n",
       "    </tr>\n",
       "  </tbody>\n",
       "</table>\n",
       "<p>5 rows × 39 columns</p>\n",
       "</div>"
      ],
      "text/plain": [
       "   Unnamed: 0  Rk             PLAYER POSITION  AGE    MP    FG   FGA    FG%  \\\n",
       "0           0   1  Russell Westbrook       PG   28  34.6  10.2  24.0  0.425   \n",
       "1           1   2       James Harden       PG   27  36.4   8.3  18.9  0.440   \n",
       "2           2   4      Anthony Davis        C   23  36.1  10.3  20.3  0.505   \n",
       "3           3   6   DeMarcus Cousins        C   26  34.2   9.0  19.9  0.452   \n",
       "4           4   7     Damian Lillard       PG   26  35.9   8.8  19.8  0.444   \n",
       "\n",
       "    3P  ...  GP   MPG  ORPM  DRPM   RPM  WINS_RPM   PIE    PACE   W  \\\n",
       "0  2.5  ...  81  34.6  6.74 -0.47  6.27     17.34  23.0  102.31  46   \n",
       "1  3.2  ...  81  36.4  6.38 -1.57  4.81     15.54  19.0  102.98  54   \n",
       "2  0.5  ...  75  36.1  0.45  3.90  4.35     12.81  19.2  100.19  31   \n",
       "3  1.8  ...  72  34.2  3.56  0.64  4.20     11.26  17.8   97.11  30   \n",
       "4  2.9  ...  75  35.9  4.63 -1.49  3.14     10.72  15.9   99.68  38   \n",
       "\n",
       "   SALARY_MILLIONS  \n",
       "0            26.50  \n",
       "1            26.50  \n",
       "2            22.12  \n",
       "3            16.96  \n",
       "4            24.33  \n",
       "\n",
       "[5 rows x 39 columns]"
      ]
     },
     "execution_count": 2,
     "metadata": {},
     "output_type": "execute_result"
    }
   ],
   "source": [
    "path = \"/Users/kofiassabil/Documents\"\n",
    "os.chdir(path)\n",
    "df_players = pd.read_csv('nba_stats.csv')\n",
    "df_players.head()"
   ]
  },
  {
   "cell_type": "code",
   "execution_count": 3,
   "metadata": {},
   "outputs": [
    {
     "name": "stdout",
     "output_type": "stream",
     "text": [
      "<class 'pandas.core.frame.DataFrame'>\n",
      "RangeIndex: 239 entries, 0 to 238\n",
      "Data columns (total 39 columns):\n",
      " #   Column           Non-Null Count  Dtype  \n",
      "---  ------           --------------  -----  \n",
      " 0   Unnamed: 0       239 non-null    int64  \n",
      " 1   Rk               239 non-null    int64  \n",
      " 2   PLAYER           239 non-null    object \n",
      " 3   POSITION         239 non-null    object \n",
      " 4   AGE              239 non-null    int64  \n",
      " 5   MP               239 non-null    float64\n",
      " 6   FG               239 non-null    float64\n",
      " 7   FGA              239 non-null    float64\n",
      " 8   FG%              239 non-null    float64\n",
      " 9   3P               239 non-null    float64\n",
      " 10  3PA              239 non-null    float64\n",
      " 11  3P%              232 non-null    float64\n",
      " 12  2P               239 non-null    float64\n",
      " 13  2PA              239 non-null    float64\n",
      " 14  2P%              239 non-null    float64\n",
      " 15  eFG%             239 non-null    float64\n",
      " 16  FT               239 non-null    float64\n",
      " 17  FTA              239 non-null    float64\n",
      " 18  FT%              237 non-null    float64\n",
      " 19  ORB              239 non-null    float64\n",
      " 20  DRB              239 non-null    float64\n",
      " 21  TRB              239 non-null    float64\n",
      " 22  AST              239 non-null    float64\n",
      " 23  STL              239 non-null    float64\n",
      " 24  BLK              239 non-null    float64\n",
      " 25  TOV              239 non-null    float64\n",
      " 26  PF               239 non-null    float64\n",
      " 27  POINTS           239 non-null    float64\n",
      " 28  TEAM             239 non-null    object \n",
      " 29  GP               239 non-null    int64  \n",
      " 30  MPG              239 non-null    float64\n",
      " 31  ORPM             239 non-null    float64\n",
      " 32  DRPM             239 non-null    float64\n",
      " 33  RPM              239 non-null    float64\n",
      " 34  WINS_RPM         239 non-null    float64\n",
      " 35  PIE              239 non-null    float64\n",
      " 36  PACE             239 non-null    float64\n",
      " 37  W                239 non-null    int64  \n",
      " 38  SALARY_MILLIONS  239 non-null    float64\n",
      "dtypes: float64(31), int64(5), object(3)\n",
      "memory usage: 72.9+ KB\n"
     ]
    }
   ],
   "source": [
    "df_players.info() #check if there are any null values"
   ]
  },
  {
   "cell_type": "code",
   "execution_count": 4,
   "metadata": {},
   "outputs": [
    {
     "data": {
      "text/html": [
       "<div>\n",
       "<style scoped>\n",
       "    .dataframe tbody tr th:only-of-type {\n",
       "        vertical-align: middle;\n",
       "    }\n",
       "\n",
       "    .dataframe tbody tr th {\n",
       "        vertical-align: top;\n",
       "    }\n",
       "\n",
       "    .dataframe thead th {\n",
       "        text-align: right;\n",
       "    }\n",
       "</style>\n",
       "<table border=\"1\" class=\"dataframe\">\n",
       "  <thead>\n",
       "    <tr style=\"text-align: right;\">\n",
       "      <th></th>\n",
       "      <th>Unnamed: 0</th>\n",
       "      <th>Rk</th>\n",
       "      <th>PLAYER</th>\n",
       "      <th>POSITION</th>\n",
       "      <th>AGE</th>\n",
       "      <th>MP</th>\n",
       "      <th>FG</th>\n",
       "      <th>FGA</th>\n",
       "      <th>FG%</th>\n",
       "      <th>3P</th>\n",
       "      <th>...</th>\n",
       "      <th>GP</th>\n",
       "      <th>MPG</th>\n",
       "      <th>ORPM</th>\n",
       "      <th>DRPM</th>\n",
       "      <th>RPM</th>\n",
       "      <th>WINS_RPM</th>\n",
       "      <th>PIE</th>\n",
       "      <th>PACE</th>\n",
       "      <th>W</th>\n",
       "      <th>SALARY_MILLIONS</th>\n",
       "    </tr>\n",
       "  </thead>\n",
       "  <tbody>\n",
       "    <tr>\n",
       "      <th>5</th>\n",
       "      <td>5</td>\n",
       "      <td>8</td>\n",
       "      <td>LeBron James</td>\n",
       "      <td>SF</td>\n",
       "      <td>32</td>\n",
       "      <td>37.8</td>\n",
       "      <td>9.9</td>\n",
       "      <td>18.2</td>\n",
       "      <td>0.548</td>\n",
       "      <td>1.7</td>\n",
       "      <td>...</td>\n",
       "      <td>74</td>\n",
       "      <td>37.8</td>\n",
       "      <td>6.49</td>\n",
       "      <td>1.93</td>\n",
       "      <td>8.42</td>\n",
       "      <td>20.43</td>\n",
       "      <td>18.3</td>\n",
       "      <td>98.38</td>\n",
       "      <td>51</td>\n",
       "      <td>30.96</td>\n",
       "    </tr>\n",
       "    <tr>\n",
       "      <th>23</th>\n",
       "      <td>23</td>\n",
       "      <td>29</td>\n",
       "      <td>Mike Conley</td>\n",
       "      <td>PG</td>\n",
       "      <td>29</td>\n",
       "      <td>33.2</td>\n",
       "      <td>6.7</td>\n",
       "      <td>14.6</td>\n",
       "      <td>0.460</td>\n",
       "      <td>2.5</td>\n",
       "      <td>...</td>\n",
       "      <td>69</td>\n",
       "      <td>33.2</td>\n",
       "      <td>4.67</td>\n",
       "      <td>-0.20</td>\n",
       "      <td>4.47</td>\n",
       "      <td>10.50</td>\n",
       "      <td>16.0</td>\n",
       "      <td>94.64</td>\n",
       "      <td>35</td>\n",
       "      <td>26.54</td>\n",
       "    </tr>\n",
       "    <tr>\n",
       "      <th>60</th>\n",
       "      <td>60</td>\n",
       "      <td>78</td>\n",
       "      <td>Al Horford</td>\n",
       "      <td>C</td>\n",
       "      <td>30</td>\n",
       "      <td>32.3</td>\n",
       "      <td>5.6</td>\n",
       "      <td>11.8</td>\n",
       "      <td>0.473</td>\n",
       "      <td>1.3</td>\n",
       "      <td>...</td>\n",
       "      <td>68</td>\n",
       "      <td>32.3</td>\n",
       "      <td>0.76</td>\n",
       "      <td>1.06</td>\n",
       "      <td>1.82</td>\n",
       "      <td>6.93</td>\n",
       "      <td>12.5</td>\n",
       "      <td>98.96</td>\n",
       "      <td>46</td>\n",
       "      <td>26.54</td>\n",
       "    </tr>\n",
       "    <tr>\n",
       "      <th>9</th>\n",
       "      <td>9</td>\n",
       "      <td>12</td>\n",
       "      <td>Kevin Durant</td>\n",
       "      <td>SF</td>\n",
       "      <td>28</td>\n",
       "      <td>33.4</td>\n",
       "      <td>8.9</td>\n",
       "      <td>16.5</td>\n",
       "      <td>0.537</td>\n",
       "      <td>1.9</td>\n",
       "      <td>...</td>\n",
       "      <td>62</td>\n",
       "      <td>33.4</td>\n",
       "      <td>4.41</td>\n",
       "      <td>1.33</td>\n",
       "      <td>5.74</td>\n",
       "      <td>12.24</td>\n",
       "      <td>18.6</td>\n",
       "      <td>103.71</td>\n",
       "      <td>51</td>\n",
       "      <td>26.50</td>\n",
       "    </tr>\n",
       "    <tr>\n",
       "      <th>1</th>\n",
       "      <td>1</td>\n",
       "      <td>2</td>\n",
       "      <td>James Harden</td>\n",
       "      <td>PG</td>\n",
       "      <td>27</td>\n",
       "      <td>36.4</td>\n",
       "      <td>8.3</td>\n",
       "      <td>18.9</td>\n",
       "      <td>0.440</td>\n",
       "      <td>3.2</td>\n",
       "      <td>...</td>\n",
       "      <td>81</td>\n",
       "      <td>36.4</td>\n",
       "      <td>6.38</td>\n",
       "      <td>-1.57</td>\n",
       "      <td>4.81</td>\n",
       "      <td>15.54</td>\n",
       "      <td>19.0</td>\n",
       "      <td>102.98</td>\n",
       "      <td>54</td>\n",
       "      <td>26.50</td>\n",
       "    </tr>\n",
       "  </tbody>\n",
       "</table>\n",
       "<p>5 rows × 39 columns</p>\n",
       "</div>"
      ],
      "text/plain": [
       "    Unnamed: 0  Rk        PLAYER POSITION  AGE    MP   FG   FGA    FG%   3P  \\\n",
       "5            5   8  LeBron James       SF   32  37.8  9.9  18.2  0.548  1.7   \n",
       "23          23  29   Mike Conley       PG   29  33.2  6.7  14.6  0.460  2.5   \n",
       "60          60  78    Al Horford        C   30  32.3  5.6  11.8  0.473  1.3   \n",
       "9            9  12  Kevin Durant       SF   28  33.4  8.9  16.5  0.537  1.9   \n",
       "1            1   2  James Harden       PG   27  36.4  8.3  18.9  0.440  3.2   \n",
       "\n",
       "    ...  GP   MPG  ORPM  DRPM   RPM  WINS_RPM   PIE    PACE   W  \\\n",
       "5   ...  74  37.8  6.49  1.93  8.42     20.43  18.3   98.38  51   \n",
       "23  ...  69  33.2  4.67 -0.20  4.47     10.50  16.0   94.64  35   \n",
       "60  ...  68  32.3  0.76  1.06  1.82      6.93  12.5   98.96  46   \n",
       "9   ...  62  33.4  4.41  1.33  5.74     12.24  18.6  103.71  51   \n",
       "1   ...  81  36.4  6.38 -1.57  4.81     15.54  19.0  102.98  54   \n",
       "\n",
       "    SALARY_MILLIONS  \n",
       "5             30.96  \n",
       "23            26.54  \n",
       "60            26.54  \n",
       "9             26.50  \n",
       "1             26.50  \n",
       "\n",
       "[5 rows x 39 columns]"
      ]
     },
     "execution_count": 4,
     "metadata": {},
     "output_type": "execute_result"
    }
   ],
   "source": [
    "df_players_sorted = df_players.sort_values(by = 'SALARY_MILLIONS', ascending= False)\n",
    "df_players_sorted.head() #sorting players by highest salaries first"
   ]
  },
  {
   "cell_type": "code",
   "execution_count": 5,
   "metadata": {},
   "outputs": [
    {
     "data": {
      "text/plain": [
       "Text(0, 0.5, 'Frequency')"
      ]
     },
     "execution_count": 5,
     "metadata": {},
     "output_type": "execute_result"
    },
    {
     "data": {
      "image/png": "[encoded data removed]",
      "text/plain": [
       "<Figure size 432x288 with 1 Axes>"
      ]
     },
     "metadata": {
      "needs_background": "light"
     },
     "output_type": "display_data"
    }
   ],
   "source": [
    "df_players_sorted.SALARY_MILLIONS.hist(bins=20, alpha=.8)\n",
    "plt.title(\"NBA Players Salaries\")\n",
    "plt.xlabel(\"Salary in Millions($)\")\n",
    "plt.ylabel(\"Frequency\")"
   ]
  },
  {
   "cell_type": "code",
   "execution_count": 6,
   "metadata": {},
   "outputs": [
    {
     "data": {
      "text/html": [
       "<div>\n",
       "<style scoped>\n",
       "    .dataframe tbody tr th:only-of-type {\n",
       "        vertical-align: middle;\n",
       "    }\n",
       "\n",
       "    .dataframe tbody tr th {\n",
       "        vertical-align: top;\n",
       "    }\n",
       "\n",
       "    .dataframe thead th {\n",
       "        text-align: right;\n",
       "    }\n",
       "</style>\n",
       "<table border=\"1\" class=\"dataframe\">\n",
       "  <thead>\n",
       "    <tr style=\"text-align: right;\">\n",
       "      <th></th>\n",
       "      <th>Unnamed: 0</th>\n",
       "      <th>Rk</th>\n",
       "      <th>AGE</th>\n",
       "      <th>MP</th>\n",
       "      <th>FG</th>\n",
       "      <th>FGA</th>\n",
       "      <th>FG%</th>\n",
       "      <th>3P</th>\n",
       "      <th>3PA</th>\n",
       "      <th>3P%</th>\n",
       "      <th>...</th>\n",
       "      <th>GP</th>\n",
       "      <th>MPG</th>\n",
       "      <th>ORPM</th>\n",
       "      <th>DRPM</th>\n",
       "      <th>RPM</th>\n",
       "      <th>WINS_RPM</th>\n",
       "      <th>PIE</th>\n",
       "      <th>PACE</th>\n",
       "      <th>W</th>\n",
       "      <th>SALARY_MILLIONS</th>\n",
       "    </tr>\n",
       "  </thead>\n",
       "  <tbody>\n",
       "    <tr>\n",
       "      <th>count</th>\n",
       "      <td>239.000000</td>\n",
       "      <td>239.000000</td>\n",
       "      <td>239.000000</td>\n",
       "      <td>239.000000</td>\n",
       "      <td>239.000000</td>\n",
       "      <td>239.000000</td>\n",
       "      <td>239.000000</td>\n",
       "      <td>239.000000</td>\n",
       "      <td>239.000000</td>\n",
       "      <td>232.000000</td>\n",
       "      <td>...</td>\n",
       "      <td>239.000000</td>\n",
       "      <td>239.000000</td>\n",
       "      <td>239.000000</td>\n",
       "      <td>239.000000</td>\n",
       "      <td>239.000000</td>\n",
       "      <td>239.000000</td>\n",
       "      <td>239.000000</td>\n",
       "      <td>239.000000</td>\n",
       "      <td>239.000000</td>\n",
       "      <td>239.000000</td>\n",
       "    </tr>\n",
       "    <tr>\n",
       "      <th>mean</th>\n",
       "      <td>119.000000</td>\n",
       "      <td>195.401674</td>\n",
       "      <td>26.405858</td>\n",
       "      <td>23.139749</td>\n",
       "      <td>3.843515</td>\n",
       "      <td>8.482008</td>\n",
       "      <td>0.447686</td>\n",
       "      <td>0.952720</td>\n",
       "      <td>2.672803</td>\n",
       "      <td>0.303026</td>\n",
       "      <td>...</td>\n",
       "      <td>60.518828</td>\n",
       "      <td>23.140167</td>\n",
       "      <td>-0.387615</td>\n",
       "      <td>0.083640</td>\n",
       "      <td>-0.303975</td>\n",
       "      <td>3.449958</td>\n",
       "      <td>9.558996</td>\n",
       "      <td>98.544184</td>\n",
       "      <td>30.765690</td>\n",
       "      <td>8.091841</td>\n",
       "    </tr>\n",
       "    <tr>\n",
       "      <th>std</th>\n",
       "      <td>69.137544</td>\n",
       "      <td>133.471733</td>\n",
       "      <td>4.433274</td>\n",
       "      <td>8.525964</td>\n",
       "      <td>2.280395</td>\n",
       "      <td>4.795601</td>\n",
       "      <td>0.070974</td>\n",
       "      <td>0.805798</td>\n",
       "      <td>2.066066</td>\n",
       "      <td>0.120666</td>\n",
       "      <td>...</td>\n",
       "      <td>20.691579</td>\n",
       "      <td>8.526039</td>\n",
       "      <td>2.225510</td>\n",
       "      <td>1.607305</td>\n",
       "      <td>2.654697</td>\n",
       "      <td>4.204438</td>\n",
       "      <td>3.590322</td>\n",
       "      <td>2.648361</td>\n",
       "      <td>14.330563</td>\n",
       "      <td>6.955577</td>\n",
       "    </tr>\n",
       "    <tr>\n",
       "      <th>min</th>\n",
       "      <td>0.000000</td>\n",
       "      <td>1.000000</td>\n",
       "      <td>19.000000</td>\n",
       "      <td>4.400000</td>\n",
       "      <td>0.200000</td>\n",
       "      <td>1.100000</td>\n",
       "      <td>0.200000</td>\n",
       "      <td>0.000000</td>\n",
       "      <td>0.000000</td>\n",
       "      <td>0.000000</td>\n",
       "      <td>...</td>\n",
       "      <td>2.000000</td>\n",
       "      <td>4.400000</td>\n",
       "      <td>-4.400000</td>\n",
       "      <td>-3.390000</td>\n",
       "      <td>-6.600000</td>\n",
       "      <td>-2.320000</td>\n",
       "      <td>-0.400000</td>\n",
       "      <td>91.120000</td>\n",
       "      <td>1.000000</td>\n",
       "      <td>0.060000</td>\n",
       "    </tr>\n",
       "    <tr>\n",
       "      <th>25%</th>\n",
       "      <td>59.500000</td>\n",
       "      <td>77.500000</td>\n",
       "      <td>23.000000</td>\n",
       "      <td>16.350000</td>\n",
       "      <td>2.000000</td>\n",
       "      <td>4.750000</td>\n",
       "      <td>0.405000</td>\n",
       "      <td>0.300000</td>\n",
       "      <td>1.000000</td>\n",
       "      <td>0.283750</td>\n",
       "      <td>...</td>\n",
       "      <td>49.500000</td>\n",
       "      <td>16.350000</td>\n",
       "      <td>-2.030000</td>\n",
       "      <td>-1.145000</td>\n",
       "      <td>-2.135000</td>\n",
       "      <td>0.250000</td>\n",
       "      <td>7.250000</td>\n",
       "      <td>97.085000</td>\n",
       "      <td>21.000000</td>\n",
       "      <td>2.580000</td>\n",
       "    </tr>\n",
       "    <tr>\n",
       "      <th>50%</th>\n",
       "      <td>119.000000</td>\n",
       "      <td>173.000000</td>\n",
       "      <td>26.000000</td>\n",
       "      <td>24.000000</td>\n",
       "      <td>3.400000</td>\n",
       "      <td>7.600000</td>\n",
       "      <td>0.444000</td>\n",
       "      <td>0.800000</td>\n",
       "      <td>2.400000</td>\n",
       "      <td>0.342000</td>\n",
       "      <td>...</td>\n",
       "      <td>68.000000</td>\n",
       "      <td>24.000000</td>\n",
       "      <td>-0.660000</td>\n",
       "      <td>-0.040000</td>\n",
       "      <td>-0.780000</td>\n",
       "      <td>1.860000</td>\n",
       "      <td>8.900000</td>\n",
       "      <td>98.430000</td>\n",
       "      <td>31.000000</td>\n",
       "      <td>5.370000</td>\n",
       "    </tr>\n",
       "    <tr>\n",
       "      <th>75%</th>\n",
       "      <td>178.500000</td>\n",
       "      <td>306.500000</td>\n",
       "      <td>29.000000</td>\n",
       "      <td>30.600000</td>\n",
       "      <td>5.200000</td>\n",
       "      <td>11.250000</td>\n",
       "      <td>0.477500</td>\n",
       "      <td>1.500000</td>\n",
       "      <td>3.950000</td>\n",
       "      <td>0.373500</td>\n",
       "      <td>...</td>\n",
       "      <td>76.000000</td>\n",
       "      <td>30.600000</td>\n",
       "      <td>0.755000</td>\n",
       "      <td>1.120000</td>\n",
       "      <td>1.230000</td>\n",
       "      <td>5.390000</td>\n",
       "      <td>11.700000</td>\n",
       "      <td>100.130000</td>\n",
       "      <td>40.000000</td>\n",
       "      <td>12.095000</td>\n",
       "    </tr>\n",
       "    <tr>\n",
       "      <th>max</th>\n",
       "      <td>238.000000</td>\n",
       "      <td>475.000000</td>\n",
       "      <td>40.000000</td>\n",
       "      <td>37.800000</td>\n",
       "      <td>10.300000</td>\n",
       "      <td>24.000000</td>\n",
       "      <td>0.671000</td>\n",
       "      <td>4.100000</td>\n",
       "      <td>10.000000</td>\n",
       "      <td>0.538000</td>\n",
       "      <td>...</td>\n",
       "      <td>82.000000</td>\n",
       "      <td>37.800000</td>\n",
       "      <td>7.270000</td>\n",
       "      <td>6.020000</td>\n",
       "      <td>8.420000</td>\n",
       "      <td>20.430000</td>\n",
       "      <td>23.000000</td>\n",
       "      <td>106.860000</td>\n",
       "      <td>66.000000</td>\n",
       "      <td>30.960000</td>\n",
       "    </tr>\n",
       "  </tbody>\n",
       "</table>\n",
       "<p>8 rows × 36 columns</p>\n",
       "</div>"
      ],
      "text/plain": [
       "       Unnamed: 0          Rk         AGE          MP          FG         FGA  \\\n",
       "count  239.000000  239.000000  239.000000  239.000000  239.000000  239.000000   \n",
       "mean   119.000000  195.401674   26.405858   23.139749    3.843515    8.482008   \n",
       "std     69.137544  133.471733    4.433274    8.525964    2.280395    4.795601   \n",
       "min      0.000000    1.000000   19.000000    4.400000    0.200000    1.100000   \n",
       "25%     59.500000   77.500000   23.000000   16.350000    2.000000    4.750000   \n",
       "50%    119.000000  173.000000   26.000000   24.000000    3.400000    7.600000   \n",
       "75%    178.500000  306.500000   29.000000   30.600000    5.200000   11.250000   \n",
       "max    238.000000  475.000000   40.000000   37.800000   10.300000   24.000000   \n",
       "\n",
       "              FG%          3P         3PA         3P%  ...          GP  \\\n",
       "count  239.000000  239.000000  239.000000  232.000000  ...  239.000000   \n",
       "mean     0.447686    0.952720    2.672803    0.303026  ...   60.518828   \n",
       "std      0.070974    0.805798    2.066066    0.120666  ...   20.691579   \n",
       "min      0.200000    0.000000    0.000000    0.000000  ...    2.000000   \n",
       "25%      0.405000    0.300000    1.000000    0.283750  ...   49.500000   \n",
       "50%      0.444000    0.800000    2.400000    0.342000  ...   68.000000   \n",
       "75%      0.477500    1.500000    3.950000    0.373500  ...   76.000000   \n",
       "max      0.671000    4.100000   10.000000    0.538000  ...   82.000000   \n",
       "\n",
       "              MPG        ORPM        DRPM         RPM    WINS_RPM         PIE  \\\n",
       "count  239.000000  239.000000  239.000000  239.000000  239.000000  239.000000   \n",
       "mean    23.140167   -0.387615    0.083640   -0.303975    3.449958    9.558996   \n",
       "std      8.526039    2.225510    1.607305    2.654697    4.204438    3.590322   \n",
       "min      4.400000   -4.400000   -3.390000   -6.600000   -2.320000   -0.400000   \n",
       "25%     16.350000   -2.030000   -1.145000   -2.135000    0.250000    7.250000   \n",
       "50%     24.000000   -0.660000   -0.040000   -0.780000    1.860000    8.900000   \n",
       "75%     30.600000    0.755000    1.120000    1.230000    5.390000   11.700000   \n",
       "max     37.800000    7.270000    6.020000    8.420000   20.430000   23.000000   \n",
       "\n",
       "             PACE           W  SALARY_MILLIONS  \n",
       "count  239.000000  239.000000       239.000000  \n",
       "mean    98.544184   30.765690         8.091841  \n",
       "std      2.648361   14.330563         6.955577  \n",
       "min     91.120000    1.000000         0.060000  \n",
       "25%     97.085000   21.000000         2.580000  \n",
       "50%     98.430000   31.000000         5.370000  \n",
       "75%    100.130000   40.000000        12.095000  \n",
       "max    106.860000   66.000000        30.960000  \n",
       "\n",
       "[8 rows x 36 columns]"
      ]
     },
     "execution_count": 6,
     "metadata": {},
     "output_type": "execute_result"
    }
   ],
   "source": [
    "df_players.describe()"
   ]
  },
  {
   "cell_type": "code",
   "execution_count": 7,
   "metadata": {},
   "outputs": [
    {
     "data": {
      "image/png": "[encoded data removed]",
      "text/plain": [
       "<Figure size 720x432 with 1 Axes>"
      ]
     },
     "metadata": {
      "needs_background": "light"
     },
     "output_type": "display_data"
    }
   ],
   "source": [
    "plt.figure(figsize=(10,6))\n",
    "sns.kdeplot(df_players.AGE, shade=True)\n",
    "plt.xlim((15,45))\n",
    "plt.title(\"PMF of Players' Age\")\n",
    "plt.ylabel(\"Density\")\n",
    "plt.xlabel('Age')\n",
    "plt.grid(True)\n",
    "plt.show()"
   ]
  },
  {
   "cell_type": "code",
   "execution_count": null,
   "metadata": {},
   "outputs": [],
   "source": []
  },
  {
   "cell_type": "code",
   "execution_count": 8,
   "metadata": {},
   "outputs": [
    {
     "name": "stdout",
     "output_type": "stream",
     "text": [
      "Mean salary is 8.091841004184099 million\n",
      "Standard deviation of salary is 6.955577409580351 million\n"
     ]
    }
   ],
   "source": [
    "meanSalary = str(df_players['SALARY_MILLIONS'].mean())\n",
    "stdSalary = str(df_players['SALARY_MILLIONS'].std())\n",
    "print('Mean salary is ' + meanSalary + ' million')\n",
    "print('Standard deviation of salary is ' + stdSalary + ' million')"
   ]
  },
  {
   "cell_type": "code",
   "execution_count": 9,
   "metadata": {},
   "outputs": [
    {
     "data": {
      "image/png": "[encoded data removed]",
      "text/plain": [
       "<Figure size 360x360 with 1 Axes>"
      ]
     },
     "metadata": {
      "needs_background": "light"
     },
     "output_type": "display_data"
    }
   ],
   "source": [
    "#how is salary related with points per game\n",
    "sns.lmplot(x='POINTS', y='SALARY_MILLIONS', data=df_players)\n",
    "plt.show()"
   ]
  },
  {
   "cell_type": "code",
   "execution_count": 10,
   "metadata": {},
   "outputs": [
    {
     "name": "stdout",
     "output_type": "stream",
     "text": [
      "R Squared Score is 0.4134736158879541\n"
     ]
    }
   ],
   "source": [
    "#linear regression model\n",
    "x = df_players[['POINTS']]\n",
    "y = df_players[['SALARY_MILLIONS']]\n",
    "lrModel_1 = LinearRegression(fit_intercept=True, normalize=False)\n",
    "lrModel_1.fit(x,y)\n",
    "r_squared1 = lrModel_1.score(x,y)\n",
    "print('R Squared Score is '+ str(r_squared1))"
   ]
  },
  {
   "cell_type": "code",
   "execution_count": 11,
   "metadata": {},
   "outputs": [
    {
     "name": "stdout",
     "output_type": "stream",
     "text": [
      "The RMSE is 5.315773807073346\n"
     ]
    }
   ],
   "source": [
    "y_pred = lrModel_1.predict(x)\n",
    "rmse = math.sqrt(mean_squared_error(y, y_pred))\n",
    "y_std = float(y.std())\n",
    "print('The RMSE is ' + str(rmse))\n"
   ]
  },
  {
   "cell_type": "code",
   "execution_count": 12,
   "metadata": {},
   "outputs": [
    {
     "name": "stdout",
     "output_type": "stream",
     "text": [
      "Pearson correltation coefficient is:(0.5772430691002426, 1.235733622789893e-22)\n"
     ]
    }
   ],
   "source": [
    "#pearson correlation coefficient\n",
    "corr = pearsonr(df_players['MPG'], df_players['SALARY_MILLIONS'])\n",
    "print('Pearson correltation coefficient is:' + str(corr))"
   ]
  },
  {
   "cell_type": "code",
   "execution_count": 13,
   "metadata": {},
   "outputs": [],
   "source": [
    "#conclusion: Salary is, to an extent, influenced by the minutes that a player plays on average per game. \n",
    "#After analyzing the rest of the features,we can also determine how big this influence in comp[arison to other predictors.]"
   ]
  },
  {
   "cell_type": "code",
   "execution_count": 14,
   "metadata": {},
   "outputs": [],
   "source": [
    "#Do same regression analysis with points per game as independent variable"
   ]
  },
  {
   "cell_type": "code",
   "execution_count": 15,
   "metadata": {},
   "outputs": [
    {
     "data": {
      "image/png": "[encoded data removed]",
      "text/plain": [
       "<Figure size 360x360 with 1 Axes>"
      ]
     },
     "metadata": {
      "needs_background": "light"
     },
     "output_type": "display_data"
    }
   ],
   "source": [
    "sns.lmplot(x=\"POINTS\", y=\"SALARY_MILLIONS\", data = df_players)\n",
    "plt.show()"
   ]
  },
  {
   "cell_type": "code",
   "execution_count": 16,
   "metadata": {},
   "outputs": [
    {
     "name": "stdout",
     "output_type": "stream",
     "text": [
      "R Squared Score is 0.4134736158879541\n"
     ]
    }
   ],
   "source": [
    "x_points = df_players[['POINTS']]\n",
    "y_points = df_players[['SALARY_MILLIONS']]\n",
    "lr_model_points = LinearRegression(fit_intercept=True, normalize=False)\n",
    "lr_model_points.fit(x_points, y_points)\n",
    "r_squared_points = lr_model_points.score(x_points,y_points)\n",
    "print('R Squared Score is '+ str(r_squared_points))"
   ]
  },
  {
   "cell_type": "code",
   "execution_count": 17,
   "metadata": {},
   "outputs": [
    {
     "name": "stdout",
     "output_type": "stream",
     "text": [
      "The RMSE is 5.315773807073346\n"
     ]
    }
   ],
   "source": [
    "y_pred_points = lr_model_points.predict(x_points)\n",
    "rmse_points = math.sqrt(mean_squared_error(y_points, y_pred_points))\n",
    "print('The RMSE is ' + str(rmse_points))"
   ]
  },
  {
   "cell_type": "code",
   "execution_count": 18,
   "metadata": {},
   "outputs": [
    {
     "name": "stdout",
     "output_type": "stream",
     "text": [
      "Pearson correltation coefficient is:(0.6430191411520764, 2.7888044776031954e-29)\n"
     ]
    }
   ],
   "source": [
    "corr_points = pearsonr(df_players[\"POINTS\"], df_players[\"SALARY_MILLIONS\"])\n",
    "print('Pearson correltation coefficient is:' + str(corr_points))"
   ]
  },
  {
   "cell_type": "code",
   "execution_count": 19,
   "metadata": {},
   "outputs": [],
   "source": [
    "#As expected points per game is one the main factors to determine the salary of any player. The R Squared and the RMSE indicate that it is more stronly related with salary rather than minutes per game"
   ]
  },
  {
   "cell_type": "code",
   "execution_count": 20,
   "metadata": {},
   "outputs": [],
   "source": [
    "#how are salaries related with offensive and defensive Rebounds Per Game"
   ]
  },
  {
   "cell_type": "code",
   "execution_count": 21,
   "metadata": {},
   "outputs": [
    {
     "name": "stdout",
     "output_type": "stream",
     "text": [
      "R Squared Score is 0.01348978265307288\n"
     ]
    }
   ],
   "source": [
    "#defensive rebounds per game/match\n",
    "x_drpm = df_players[['DRPM']]\n",
    "y_drpm = df_players[['SALARY_MILLIONS']]\n",
    "lr_model_drpm = LinearRegression(fit_intercept=True, normalize=False)\n",
    "lr_model_drpm.fit(x_drpm, y_drpm)\n",
    "r_squared_drpm = lr_model_drpm.score(x_drpm,y_drpm)\n",
    "print('R Squared Score is '+ str(r_squared_drpm))"
   ]
  },
  {
   "cell_type": "code",
   "execution_count": 22,
   "metadata": {},
   "outputs": [
    {
     "name": "stdout",
     "output_type": "stream",
     "text": [
      "The RMSE is 6.894035416571364\n"
     ]
    }
   ],
   "source": [
    "y_pred_drpm = lr_model_drpm.predict(x_drpm)\n",
    "rmse_drpm = math.sqrt(mean_squared_error(y_drpm, y_pred_drpm))\n",
    "print('The RMSE is ' + str(rmse_drpm))"
   ]
  },
  {
   "cell_type": "code",
   "execution_count": 23,
   "metadata": {},
   "outputs": [
    {
     "name": "stdout",
     "output_type": "stream",
     "text": [
      "Pearson correltation coefficient is:(0.11614552360324829, 0.07309729057650702)\n"
     ]
    }
   ],
   "source": [
    "corr_drpm = pearsonr(df_players[\"DRPM\"], df_players[\"SALARY_MILLIONS\"])\n",
    "print('Pearson correltation coefficient is:' + str(corr_drpm))"
   ]
  },
  {
   "cell_type": "code",
   "execution_count": 24,
   "metadata": {},
   "outputs": [
    {
     "name": "stdout",
     "output_type": "stream",
     "text": [
      "R Squared Score is 0.2849282976846804\n"
     ]
    }
   ],
   "source": [
    "#offensive rebounds per game/match\n",
    "x_orpm = df_players[['ORPM']]\n",
    "y_orpm = df_players[['SALARY_MILLIONS']]\n",
    "lr_model_orpm = LinearRegression(fit_intercept=True, normalize=False)\n",
    "lr_model_orpm.fit(x_orpm, y_orpm)\n",
    "r_squared_orpm = lr_model_orpm.score(x_orpm,y_orpm)\n",
    "print('R Squared Score is '+ str(r_squared_orpm))"
   ]
  },
  {
   "cell_type": "code",
   "execution_count": 25,
   "metadata": {},
   "outputs": [
    {
     "name": "stdout",
     "output_type": "stream",
     "text": [
      "The RMSE is 5.869451418772547\n"
     ]
    }
   ],
   "source": [
    "y_pred_orpm = lr_model_orpm.predict(x_orpm)\n",
    "rmse_orpm = math.sqrt(mean_squared_error(y_orpm, y_pred_orpm))\n",
    "print('The RMSE is ' + str(rmse_orpm))"
   ]
  },
  {
   "cell_type": "code",
   "execution_count": 26,
   "metadata": {},
   "outputs": [
    {
     "name": "stdout",
     "output_type": "stream",
     "text": [
      "Pearson correltation coefficient is:(0.5337867530059925, 5.281036327549805e-19)\n"
     ]
    }
   ],
   "source": [
    "corr_orpm = pearsonr(df_players[\"ORPM\"], df_players[\"SALARY_MILLIONS\"])\n",
    "print('Pearson correltation coefficient is:' + str(corr_orpm))"
   ]
  },
  {
   "cell_type": "code",
   "execution_count": 27,
   "metadata": {},
   "outputs": [],
   "source": [
    "#with this model it shows that players that contribute to a team offensively get larger salaries than those who help out the team defensively "
   ]
  },
  {
   "cell_type": "code",
   "execution_count": 28,
   "metadata": {},
   "outputs": [],
   "source": [
    "#how are salaries related to age"
   ]
  },
  {
   "cell_type": "code",
   "execution_count": 29,
   "metadata": {},
   "outputs": [
    {
     "name": "stdout",
     "output_type": "stream",
     "text": [
      "R Squared Score is 0.12586828934983396\n"
     ]
    }
   ],
   "source": [
    "x_age = df_players[['AGE']]\n",
    "y_age = df_players[['SALARY_MILLIONS']]\n",
    "lr_model_age = LinearRegression(fit_intercept=True, normalize=False)\n",
    "lr_model_age.fit(x_age, y_age)\n",
    "r_squared_age = lr_model_age.score(x_age,y_age)\n",
    "print('R Squared Score is '+ str(r_squared_age))"
   ]
  },
  {
   "cell_type": "code",
   "execution_count": 30,
   "metadata": {},
   "outputs": [
    {
     "name": "stdout",
     "output_type": "stream",
     "text": [
      "The RMSE is 6.489498763384336\n"
     ]
    }
   ],
   "source": [
    "y_pred_age = lr_model_age.predict(x_age)\n",
    "rmse_age = math.sqrt(mean_squared_error(y_age, y_pred_age))\n",
    "print('The RMSE is ' + str(rmse_age))"
   ]
  },
  {
   "cell_type": "code",
   "execution_count": 31,
   "metadata": {},
   "outputs": [
    {
     "name": "stdout",
     "output_type": "stream",
     "text": [
      "Pearson correltation coefficient is:(0.3547792121162598, 1.6950803052472143e-08)\n"
     ]
    }
   ],
   "source": [
    "corr_age = pearsonr(df_players[\"AGE\"], df_players[\"SALARY_MILLIONS\"])\n",
    "print('Pearson correltation coefficient is:' + str(corr_age))"
   ]
  },
  {
   "cell_type": "code",
   "execution_count": 32,
   "metadata": {},
   "outputs": [],
   "source": [
    "#from this model age doesn't seem to be a key factor for players salary."
   ]
  },
  {
   "cell_type": "code",
   "execution_count": 33,
   "metadata": {},
   "outputs": [],
   "source": [
    "#final step of predicting salary, convert position which is categorical to a numeric column"
   ]
  },
  {
   "cell_type": "code",
   "execution_count": 34,
   "metadata": {},
   "outputs": [
    {
     "data": {
      "text/html": [
       "<div>\n",
       "<style scoped>\n",
       "    .dataframe tbody tr th:only-of-type {\n",
       "        vertical-align: middle;\n",
       "    }\n",
       "\n",
       "    .dataframe tbody tr th {\n",
       "        vertical-align: top;\n",
       "    }\n",
       "\n",
       "    .dataframe thead th {\n",
       "        text-align: right;\n",
       "    }\n",
       "</style>\n",
       "<table border=\"1\" class=\"dataframe\">\n",
       "  <thead>\n",
       "    <tr style=\"text-align: right;\">\n",
       "      <th></th>\n",
       "      <th>Unnamed: 0</th>\n",
       "      <th>Rk</th>\n",
       "      <th>PLAYER</th>\n",
       "      <th>POSITION</th>\n",
       "      <th>AGE</th>\n",
       "      <th>MP</th>\n",
       "      <th>FG</th>\n",
       "      <th>FGA</th>\n",
       "      <th>FG%</th>\n",
       "      <th>3P</th>\n",
       "      <th>...</th>\n",
       "      <th>MPG</th>\n",
       "      <th>ORPM</th>\n",
       "      <th>DRPM</th>\n",
       "      <th>RPM</th>\n",
       "      <th>WINS_RPM</th>\n",
       "      <th>PIE</th>\n",
       "      <th>PACE</th>\n",
       "      <th>W</th>\n",
       "      <th>SALARY_MILLIONS</th>\n",
       "      <th>POSITION_NUMERICAL</th>\n",
       "    </tr>\n",
       "  </thead>\n",
       "  <tbody>\n",
       "    <tr>\n",
       "      <th>0</th>\n",
       "      <td>0</td>\n",
       "      <td>1</td>\n",
       "      <td>Russell Westbrook</td>\n",
       "      <td>PG</td>\n",
       "      <td>28</td>\n",
       "      <td>34.6</td>\n",
       "      <td>10.2</td>\n",
       "      <td>24.0</td>\n",
       "      <td>0.425</td>\n",
       "      <td>2.5</td>\n",
       "      <td>...</td>\n",
       "      <td>34.6</td>\n",
       "      <td>6.74</td>\n",
       "      <td>-0.47</td>\n",
       "      <td>6.27</td>\n",
       "      <td>17.34</td>\n",
       "      <td>23.0</td>\n",
       "      <td>102.31</td>\n",
       "      <td>46</td>\n",
       "      <td>26.50</td>\n",
       "      <td>1</td>\n",
       "    </tr>\n",
       "    <tr>\n",
       "      <th>1</th>\n",
       "      <td>1</td>\n",
       "      <td>2</td>\n",
       "      <td>James Harden</td>\n",
       "      <td>PG</td>\n",
       "      <td>27</td>\n",
       "      <td>36.4</td>\n",
       "      <td>8.3</td>\n",
       "      <td>18.9</td>\n",
       "      <td>0.440</td>\n",
       "      <td>3.2</td>\n",
       "      <td>...</td>\n",
       "      <td>36.4</td>\n",
       "      <td>6.38</td>\n",
       "      <td>-1.57</td>\n",
       "      <td>4.81</td>\n",
       "      <td>15.54</td>\n",
       "      <td>19.0</td>\n",
       "      <td>102.98</td>\n",
       "      <td>54</td>\n",
       "      <td>26.50</td>\n",
       "      <td>1</td>\n",
       "    </tr>\n",
       "    <tr>\n",
       "      <th>2</th>\n",
       "      <td>2</td>\n",
       "      <td>4</td>\n",
       "      <td>Anthony Davis</td>\n",
       "      <td>C</td>\n",
       "      <td>23</td>\n",
       "      <td>36.1</td>\n",
       "      <td>10.3</td>\n",
       "      <td>20.3</td>\n",
       "      <td>0.505</td>\n",
       "      <td>0.5</td>\n",
       "      <td>...</td>\n",
       "      <td>36.1</td>\n",
       "      <td>0.45</td>\n",
       "      <td>3.90</td>\n",
       "      <td>4.35</td>\n",
       "      <td>12.81</td>\n",
       "      <td>19.2</td>\n",
       "      <td>100.19</td>\n",
       "      <td>31</td>\n",
       "      <td>22.12</td>\n",
       "      <td>5</td>\n",
       "    </tr>\n",
       "    <tr>\n",
       "      <th>3</th>\n",
       "      <td>3</td>\n",
       "      <td>6</td>\n",
       "      <td>DeMarcus Cousins</td>\n",
       "      <td>C</td>\n",
       "      <td>26</td>\n",
       "      <td>34.2</td>\n",
       "      <td>9.0</td>\n",
       "      <td>19.9</td>\n",
       "      <td>0.452</td>\n",
       "      <td>1.8</td>\n",
       "      <td>...</td>\n",
       "      <td>34.2</td>\n",
       "      <td>3.56</td>\n",
       "      <td>0.64</td>\n",
       "      <td>4.20</td>\n",
       "      <td>11.26</td>\n",
       "      <td>17.8</td>\n",
       "      <td>97.11</td>\n",
       "      <td>30</td>\n",
       "      <td>16.96</td>\n",
       "      <td>5</td>\n",
       "    </tr>\n",
       "    <tr>\n",
       "      <th>4</th>\n",
       "      <td>4</td>\n",
       "      <td>7</td>\n",
       "      <td>Damian Lillard</td>\n",
       "      <td>PG</td>\n",
       "      <td>26</td>\n",
       "      <td>35.9</td>\n",
       "      <td>8.8</td>\n",
       "      <td>19.8</td>\n",
       "      <td>0.444</td>\n",
       "      <td>2.9</td>\n",
       "      <td>...</td>\n",
       "      <td>35.9</td>\n",
       "      <td>4.63</td>\n",
       "      <td>-1.49</td>\n",
       "      <td>3.14</td>\n",
       "      <td>10.72</td>\n",
       "      <td>15.9</td>\n",
       "      <td>99.68</td>\n",
       "      <td>38</td>\n",
       "      <td>24.33</td>\n",
       "      <td>1</td>\n",
       "    </tr>\n",
       "    <tr>\n",
       "      <th>...</th>\n",
       "      <td>...</td>\n",
       "      <td>...</td>\n",
       "      <td>...</td>\n",
       "      <td>...</td>\n",
       "      <td>...</td>\n",
       "      <td>...</td>\n",
       "      <td>...</td>\n",
       "      <td>...</td>\n",
       "      <td>...</td>\n",
       "      <td>...</td>\n",
       "      <td>...</td>\n",
       "      <td>...</td>\n",
       "      <td>...</td>\n",
       "      <td>...</td>\n",
       "      <td>...</td>\n",
       "      <td>...</td>\n",
       "      <td>...</td>\n",
       "      <td>...</td>\n",
       "      <td>...</td>\n",
       "      <td>...</td>\n",
       "      <td>...</td>\n",
       "    </tr>\n",
       "    <tr>\n",
       "      <th>234</th>\n",
       "      <td>234</td>\n",
       "      <td>455</td>\n",
       "      <td>Nick Collison</td>\n",
       "      <td>PF</td>\n",
       "      <td>36</td>\n",
       "      <td>6.4</td>\n",
       "      <td>0.7</td>\n",
       "      <td>1.2</td>\n",
       "      <td>0.609</td>\n",
       "      <td>0.0</td>\n",
       "      <td>...</td>\n",
       "      <td>6.4</td>\n",
       "      <td>-2.18</td>\n",
       "      <td>1.12</td>\n",
       "      <td>-1.06</td>\n",
       "      <td>0.17</td>\n",
       "      <td>12.0</td>\n",
       "      <td>97.52</td>\n",
       "      <td>10</td>\n",
       "      <td>3.75</td>\n",
       "      <td>4</td>\n",
       "    </tr>\n",
       "    <tr>\n",
       "      <th>235</th>\n",
       "      <td>235</td>\n",
       "      <td>457</td>\n",
       "      <td>Bruno Caboclo</td>\n",
       "      <td>SF</td>\n",
       "      <td>21</td>\n",
       "      <td>4.4</td>\n",
       "      <td>0.7</td>\n",
       "      <td>1.8</td>\n",
       "      <td>0.375</td>\n",
       "      <td>0.2</td>\n",
       "      <td>...</td>\n",
       "      <td>4.4</td>\n",
       "      <td>-1.76</td>\n",
       "      <td>0.11</td>\n",
       "      <td>-1.65</td>\n",
       "      <td>0.04</td>\n",
       "      <td>9.4</td>\n",
       "      <td>95.38</td>\n",
       "      <td>8</td>\n",
       "      <td>1.59</td>\n",
       "      <td>3</td>\n",
       "    </tr>\n",
       "    <tr>\n",
       "      <th>236</th>\n",
       "      <td>236</td>\n",
       "      <td>459</td>\n",
       "      <td>Ryan Kelly</td>\n",
       "      <td>PF</td>\n",
       "      <td>25</td>\n",
       "      <td>6.9</td>\n",
       "      <td>0.5</td>\n",
       "      <td>1.8</td>\n",
       "      <td>0.286</td>\n",
       "      <td>0.3</td>\n",
       "      <td>...</td>\n",
       "      <td>6.9</td>\n",
       "      <td>-1.94</td>\n",
       "      <td>1.45</td>\n",
       "      <td>-0.49</td>\n",
       "      <td>0.08</td>\n",
       "      <td>7.3</td>\n",
       "      <td>96.26</td>\n",
       "      <td>6</td>\n",
       "      <td>1.58</td>\n",
       "      <td>4</td>\n",
       "    </tr>\n",
       "    <tr>\n",
       "      <th>237</th>\n",
       "      <td>237</td>\n",
       "      <td>460</td>\n",
       "      <td>Jordan Mickey</td>\n",
       "      <td>PF</td>\n",
       "      <td>22</td>\n",
       "      <td>5.6</td>\n",
       "      <td>0.6</td>\n",
       "      <td>1.4</td>\n",
       "      <td>0.441</td>\n",
       "      <td>0.0</td>\n",
       "      <td>...</td>\n",
       "      <td>5.6</td>\n",
       "      <td>-2.62</td>\n",
       "      <td>-0.15</td>\n",
       "      <td>-2.77</td>\n",
       "      <td>0.03</td>\n",
       "      <td>6.0</td>\n",
       "      <td>97.66</td>\n",
       "      <td>9</td>\n",
       "      <td>1.47</td>\n",
       "      <td>4</td>\n",
       "    </tr>\n",
       "    <tr>\n",
       "      <th>238</th>\n",
       "      <td>238</td>\n",
       "      <td>475</td>\n",
       "      <td>Alonzo Gee</td>\n",
       "      <td>SF</td>\n",
       "      <td>29</td>\n",
       "      <td>6.8</td>\n",
       "      <td>0.2</td>\n",
       "      <td>1.1</td>\n",
       "      <td>0.214</td>\n",
       "      <td>0.0</td>\n",
       "      <td>...</td>\n",
       "      <td>6.8</td>\n",
       "      <td>-2.11</td>\n",
       "      <td>0.43</td>\n",
       "      <td>-1.68</td>\n",
       "      <td>0.08</td>\n",
       "      <td>0.8</td>\n",
       "      <td>104.33</td>\n",
       "      <td>4</td>\n",
       "      <td>0.06</td>\n",
       "      <td>3</td>\n",
       "    </tr>\n",
       "  </tbody>\n",
       "</table>\n",
       "<p>239 rows × 40 columns</p>\n",
       "</div>"
      ],
      "text/plain": [
       "     Unnamed: 0   Rk             PLAYER POSITION  AGE    MP    FG   FGA  \\\n",
       "0             0    1  Russell Westbrook       PG   28  34.6  10.2  24.0   \n",
       "1             1    2       James Harden       PG   27  36.4   8.3  18.9   \n",
       "2             2    4      Anthony Davis        C   23  36.1  10.3  20.3   \n",
       "3             3    6   DeMarcus Cousins        C   26  34.2   9.0  19.9   \n",
       "4             4    7     Damian Lillard       PG   26  35.9   8.8  19.8   \n",
       "..          ...  ...                ...      ...  ...   ...   ...   ...   \n",
       "234         234  455      Nick Collison       PF   36   6.4   0.7   1.2   \n",
       "235         235  457      Bruno Caboclo       SF   21   4.4   0.7   1.8   \n",
       "236         236  459         Ryan Kelly       PF   25   6.9   0.5   1.8   \n",
       "237         237  460      Jordan Mickey       PF   22   5.6   0.6   1.4   \n",
       "238         238  475         Alonzo Gee       SF   29   6.8   0.2   1.1   \n",
       "\n",
       "       FG%   3P  ...   MPG  ORPM  DRPM   RPM  WINS_RPM   PIE    PACE   W  \\\n",
       "0    0.425  2.5  ...  34.6  6.74 -0.47  6.27     17.34  23.0  102.31  46   \n",
       "1    0.440  3.2  ...  36.4  6.38 -1.57  4.81     15.54  19.0  102.98  54   \n",
       "2    0.505  0.5  ...  36.1  0.45  3.90  4.35     12.81  19.2  100.19  31   \n",
       "3    0.452  1.8  ...  34.2  3.56  0.64  4.20     11.26  17.8   97.11  30   \n",
       "4    0.444  2.9  ...  35.9  4.63 -1.49  3.14     10.72  15.9   99.68  38   \n",
       "..     ...  ...  ...   ...   ...   ...   ...       ...   ...     ...  ..   \n",
       "234  0.609  0.0  ...   6.4 -2.18  1.12 -1.06      0.17  12.0   97.52  10   \n",
       "235  0.375  0.2  ...   4.4 -1.76  0.11 -1.65      0.04   9.4   95.38   8   \n",
       "236  0.286  0.3  ...   6.9 -1.94  1.45 -0.49      0.08   7.3   96.26   6   \n",
       "237  0.441  0.0  ...   5.6 -2.62 -0.15 -2.77      0.03   6.0   97.66   9   \n",
       "238  0.214  0.0  ...   6.8 -2.11  0.43 -1.68      0.08   0.8  104.33   4   \n",
       "\n",
       "     SALARY_MILLIONS  POSITION_NUMERICAL  \n",
       "0              26.50                   1  \n",
       "1              26.50                   1  \n",
       "2              22.12                   5  \n",
       "3              16.96                   5  \n",
       "4              24.33                   1  \n",
       "..               ...                 ...  \n",
       "234             3.75                   4  \n",
       "235             1.59                   3  \n",
       "236             1.58                   4  \n",
       "237             1.47                   4  \n",
       "238             0.06                   3  \n",
       "\n",
       "[239 rows x 40 columns]"
      ]
     },
     "execution_count": 34,
     "metadata": {},
     "output_type": "execute_result"
    }
   ],
   "source": [
    "mapping_positions = {\"PG\":1, \"SG\":2, \"SF\":3, \"PF\":4, \"C\":5}\n",
    "df_players['POSITION_NUMERICAL'] = df_players['POSITION'].map(mapping_positions)\n",
    "df_players"
   ]
  },
  {
   "cell_type": "code",
   "execution_count": 35,
   "metadata": {},
   "outputs": [],
   "source": [
    "#split the data into a training and testing and build model on the training set to compare to the predictions on testing set\n",
    "#added age to X because of the curve relationship between age and salary\n",
    "#because offensive stats seem to make salary go up I aslo added AST and FG%\n",
    "X = df_players[['MPG','POSITION_NUMERICAL','ORPM','POINTS','AGE','AST','FG%']]\n",
    "Y = df_players['SALARY_MILLIONS']\n",
    "#create train and test sets\n",
    "X_train, X_test, y_train, y_test = train_test_split(X, Y, test_size=.20, random_state=42)"
   ]
  },
  {
   "cell_type": "code",
   "execution_count": 36,
   "metadata": {},
   "outputs": [
    {
     "name": "stdout",
     "output_type": "stream",
     "text": [
      "R Squared Score is 0.5944995147969269\n"
     ]
    }
   ],
   "source": [
    "#get R_squared\n",
    "lr_model = LinearRegression(fit_intercept=True, normalize= True)\n",
    "lr_model.fit(X_train, y_train)\n",
    "rSquared = lr_model.score(X_train, y_train)\n",
    "print('R Squared Score is '+ str(rSquared))"
   ]
  },
  {
   "cell_type": "code",
   "execution_count": 37,
   "metadata": {},
   "outputs": [
    {
     "name": "stdout",
     "output_type": "stream",
     "text": [
      "RMSE is 4.438637201010637\n"
     ]
    }
   ],
   "source": [
    "#preditcitons over train set\n",
    "yPred = lr_model.predict(X_train)\n",
    "rmse = math.sqrt(mean_squared_error(y_train, yPred))\n",
    "print('RMSE is '+ str(rmse))\n",
    " "
   ]
  },
  {
   "cell_type": "code",
   "execution_count": 38,
   "metadata": {},
   "outputs": [],
   "source": [
    "# this model still shows significant bias even though it performs better than all the other variables that were considered independently. With this model on average we're about 4.43 million dollars off per player for their salary"
   ]
  },
  {
   "cell_type": "code",
   "execution_count": 39,
   "metadata": {},
   "outputs": [
    {
     "name": "stdout",
     "output_type": "stream",
     "text": [
      "[-0.02801934  1.14999847 -0.38478972  0.69161996  0.52969838  0.95037348\n",
      " -4.42251667]\n"
     ]
    }
   ],
   "source": [
    "#compare the regression coefficients to use as an indicator for the importance of each variable\n",
    "print(lr_model.coef_)"
   ]
  },
  {
   "cell_type": "code",
   "execution_count": 40,
   "metadata": {},
   "outputs": [
    {
     "data": {
      "image/png": "[encoded data removed]",
      "text/plain": [
       "<Figure size 864x360 with 1 Axes>"
      ]
     },
     "metadata": {
      "needs_background": "light"
     },
     "output_type": "display_data"
    }
   ],
   "source": [
    "plt.figure(figsize=(12, 5))\n",
    "plt.bar(X.columns, lr_model.coef_, color=(0.2, 0.4, 0.6, 0.6))\n",
    "plt.xticks(rotation=90)\n",
    "plt.title('Standardized regression coefs.')\n",
    "plt.show()"
   ]
  },
  {
   "cell_type": "code",
   "execution_count": null,
   "metadata": {},
   "outputs": [],
   "source": []
  }
 ],
 "metadata": {
  "kernelspec": {
   "display_name": "Python 3",
   "language": "python",
   "name": "python3"
  },
  "language_info": {
   "codemirror_mode": {
    "name": "ipython",
    "version": 3
   },
   "file_extension": ".py",
   "mimetype": "text/x-python",
   "name": "python",
   "nbconvert_exporter": "python",
   "pygments_lexer": "ipython3",
   "version": "3.7.6"
  }
 },
 "nbformat": 4,
 "nbformat_minor": 4
}
